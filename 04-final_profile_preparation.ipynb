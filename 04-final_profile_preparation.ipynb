{
 "cells": [
  {
   "cell_type": "code",
   "execution_count": 1,
   "id": "973e49f9-cd75-4b22-bdb9-53bf56ad3b70",
   "metadata": {},
   "outputs": [],
   "source": [
    "import pandas as pd\n",
    "import pickle\n",
    "import math\n",
    "import copy\n",
    "import numpy as np"
   ]
  },
  {
   "cell_type": "code",
   "execution_count": 2,
   "id": "9f066a55-d118-40ed-b268-a5ee94d44108",
   "metadata": {},
   "outputs": [],
   "source": [
    "clusters = 10"
   ]
  },
  {
   "cell_type": "code",
   "execution_count": 3,
   "id": "cb877740-a552-48b4-8113-7719c96df184",
   "metadata": {},
   "outputs": [],
   "source": [
    "years = [2030]"
   ]
  },
  {
   "cell_type": "markdown",
   "id": "acd87431-1ea1-40d0-b07b-494c1da90344",
   "metadata": {},
   "source": [
    "# NUTS-Regionen"
   ]
  },
  {
   "cell_type": "code",
   "execution_count": 6,
   "id": "9b15a1c6-2c5f-492d-ba2a-1495f352f252",
   "metadata": {},
   "outputs": [],
   "source": [
    "for year in years:\n",
    "    \n",
    "    # Read profiles\n",
    "    data_profiles = pd.read_pickle(\"data/profiles_daily_clusters\" + str(clusters) + \".pickle\")\n",
    "    data_profiles_agg = data_profiles[list(data_profiles.keys())[0]][year].fillna(0)\n",
    "    for key in list(data_profiles.keys())[1:]:\n",
    "        data_profiles_agg = data_profiles_agg + data_profiles[key][year].fillna(0)\n",
    "    data_profiles_agg = data_profiles_agg.apply(lambda x: round(x, 2))\n",
    "\n",
    "    # Read flex profiles (positive)\n",
    "    data_flex_pos = pd.read_pickle(\"data/pos_flex_daily_clusters\" + str(clusters) + \".pickle\")\n",
    "    data_flex_pos_agg = data_flex_pos[list(data_flex_pos.keys())[0]][year].fillna(0)\n",
    "    for key in list(data_flex_pos.keys())[1:]:\n",
    "        data_flex_pos_agg = data_flex_pos_agg + data_flex_pos[key][year].fillna(0)\n",
    "    data_flex_pos_agg = data_flex_pos_agg.fillna(0).apply(lambda x: round(x, 2))\n",
    "\n",
    "    # Read flex profiles (negative)\n",
    "    data_flex_neg = pd.read_pickle(\"data/neg_flex_daily_clusters\" + str(clusters) + \".pickle\")\n",
    "    data_flex_neg_agg = data_flex_neg[list(data_flex_neg.keys())[0]][year].fillna(0)\n",
    "    for key in list(data_flex_neg.keys())[1:]:\n",
    "        data_flex_neg_agg = data_flex_neg_agg + data_flex_neg[key][year].fillna(0)\n",
    "    data_flex_neg_agg = data_flex_neg_agg.fillna(0).apply(lambda x: round(x, 2))\n",
    "    \n",
    "    # Read driving profiles\n",
    "    data_driving = pd.read_pickle(\"data/driving_daily_clusters\" + str(clusters) + \".pickle\")\n",
    "    data_driving_agg = data_driving[list(data_driving.keys())[0]][year].fillna(0)\n",
    "    for key in list(data_driving.keys())[1:]:\n",
    "        data_driving_agg = data_driving_agg + data_driving[key][year].fillna(0)\n",
    "    data_driving_agg = data_driving_agg.fillna(0).apply(lambda x: round(x, 2))\n",
    "    \n",
    "    data_driving_agg_ref = copy.deepcopy(data_driving_agg)\n",
    "    for c in range(clusters):\n",
    "        for i in range(8760):\n",
    "            i_start = 24*math.floor(i/24)\n",
    "            i_end = i_start+24\n",
    "            if sum(data_driving_agg_ref.iloc[i_start:i_end,c]) > 0:\n",
    "                fac = sum(data_profiles_agg.iloc[i_start:i_end,c]) / sum(data_driving_agg_ref.iloc[i_start:i_end,c])\n",
    "            else:\n",
    "                fac = 1   \n",
    "            data_driving_agg.iloc[i,c] = data_driving_agg_ref.iloc[i,c] * fac\n",
    "     \n",
    "    # Create a Pandas Excel writer using XlsxWriter as the engine.\n",
    "    writer = pd.ExcelWriter(\"Output/profiles_nuts_clusters\" + str(clusters) + \"_year\" + str(year) +\".xlsx\", engine='xlsxwriter')\n",
    "\n",
    "    # Write each dataframe to a different worksheet.\n",
    "    data_profiles_agg.to_excel(writer, sheet_name='profiles')\n",
    "    data_flex_neg_agg.to_excel(writer, sheet_name='flex_neg')\n",
    "    data_flex_pos_agg.to_excel(writer, sheet_name='flex_pos')\n",
    "    data_driving_agg.to_excel(writer, sheet_name='driving')\n",
    "\n",
    "    # Close the Pandas Excel writer and output the Excel file.\n",
    "    writer.close()"
   ]
  },
  {
   "cell_type": "markdown",
   "id": "64f46453-a044-4574-855b-2e048314c43f",
   "metadata": {},
   "source": [
    "# Siedlungstypen"
   ]
  },
  {
   "cell_type": "code",
   "execution_count": 46,
   "id": "bfbd8335-5cee-4155-bfea-3decce0aecbc",
   "metadata": {},
   "outputs": [],
   "source": [
    "# Read profiles\n",
    "data_profiles = pd.read_pickle(\"data/profiles_daily_Siedlungstyp_clusters\" + str(clusters) + \".pickle\")\n",
    "data_profiles = pd.concat([pd.concat({str(i): pd.concat(data_profiles[i], axis=1)}, axis=1) for i in data_profiles],axis=1)\n",
    "data_profiles = data_profiles.reorder_levels([1, 0, 2], axis=1)\n",
    "data_profiles = data_profiles.sort_index(axis=1)\n",
    "data_profiles = data_profiles.apply(lambda x: round(x, 4))\n",
    "\n",
    "# Read flex profiles (positive)\n",
    "data_flex_pos = pd.read_pickle(\"data/pos_flex_daily_Siedlungstyp_clusters\" + str(clusters) + \".pickle\")\n",
    "data_flex_pos = pd.concat([pd.concat({str(i): pd.concat(data_flex_pos[i], axis=1)}, axis=1) for i in data_flex_pos],axis=1)\n",
    "data_flex_pos = data_flex_pos.reorder_levels([1, 0, 2], axis=1)\n",
    "data_flex_pos = data_flex_pos.sort_index(axis=1)\n",
    "data_flex_pos = data_flex_pos.apply(lambda x: round(x, 4))\n",
    "\n",
    "# Read flex profiles (negative)\n",
    "data_flex_neg = pd.read_pickle(\"data/neg_flex_daily_Siedlungstyp_clusters\" + str(clusters) + \".pickle\")\n",
    "data_flex_neg = pd.concat([pd.concat({str(i): pd.concat(data_flex_neg[i], axis=1)}, axis=1) for i in data_flex_neg],axis=1)\n",
    "data_flex_neg = data_flex_neg.reorder_levels([1, 0, 2], axis=1)\n",
    "data_flex_neg = data_flex_neg.sort_index(axis=1)\n",
    "data_flex_neg = data_flex_neg.apply(lambda x: round(x, 4))\n",
    "\n",
    "# Read driving profiles\n",
    "data_driving = pd.read_pickle(\"data/driving_daily_Siedlungstyp_clusters\" + str(clusters) + \".pickle\")\n",
    "data_driving = pd.concat([pd.concat({str(i): pd.concat(data_driving[i], axis=1)}, axis=1) for i in data_driving],axis=1)\n",
    "data_driving = data_driving.reorder_levels([1, 0, 2], axis=1)\n",
    "data_driving = data_driving.sort_index(axis=1)\n",
    "data_driving = data_driving.apply(lambda x: round(x, 4))\n",
    "\n",
    "data_driving_ref = copy.deepcopy(data_driving)\n",
    "for c, k in enumerate(data_driving.keys()):\n",
    "    for i in range(8760):\n",
    "        i_start = 24*math.floor(i/24)\n",
    "        i_end = i_start+24\n",
    "        if sum(data_driving_ref.iloc[i_start:i_end,c]) > 0:\n",
    "            fac = sum(data_profiles.iloc[i_start:i_end,c]) / sum(data_driving_ref.iloc[i_start:i_end,c])\n",
    "        else:\n",
    "            fac = 1\n",
    "        data_driving.iloc[i,c] = data_driving_ref.iloc[i,c] * fac\n",
    "\n",
    "# Create a Pandas Excel writer using XlsxWriter as the engine.\n",
    "writer = pd.ExcelWriter(\"Output/profiles_siedlungstyp_clusters\" + str(clusters) + \".xlsx\", engine='xlsxwriter')\n",
    "\n",
    "# Write each dataframe to a different worksheet.\n",
    "data_profiles.to_excel(writer, sheet_name='profiles')\n",
    "data_flex_neg.to_excel(writer, sheet_name='flex_neg')\n",
    "data_flex_pos.to_excel(writer, sheet_name='flex_pos')\n",
    "data_driving.to_excel(writer, sheet_name='driving')\n",
    "\n",
    "# Close the Pandas Excel writer and output the Excel file.\n",
    "writer.close()"
   ]
  },
  {
   "cell_type": "code",
   "execution_count": null,
   "id": "881a1724",
   "metadata": {},
   "outputs": [],
   "source": []
  },
  {
   "cell_type": "code",
   "execution_count": null,
   "id": "34c81cd1",
   "metadata": {},
   "outputs": [],
   "source": []
  },
  {
   "cell_type": "code",
   "execution_count": null,
   "id": "f1535752",
   "metadata": {},
   "outputs": [],
   "source": []
  }
 ],
 "metadata": {
  "kernelspec": {
   "display_name": "Python 3 (ipykernel)",
   "language": "python",
   "name": "python3"
  },
  "language_info": {
   "codemirror_mode": {
    "name": "ipython",
    "version": 3
   },
   "file_extension": ".py",
   "mimetype": "text/x-python",
   "name": "python",
   "nbconvert_exporter": "python",
   "pygments_lexer": "ipython3",
   "version": "3.8.3"
  }
 },
 "nbformat": 4,
 "nbformat_minor": 5
}
